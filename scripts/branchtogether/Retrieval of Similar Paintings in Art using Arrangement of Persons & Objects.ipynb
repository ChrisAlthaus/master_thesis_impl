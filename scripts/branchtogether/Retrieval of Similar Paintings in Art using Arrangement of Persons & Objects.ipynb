{
 "cells": [
  {
   "cell_type": "code",
   "execution_count": null,
   "metadata": {},
   "outputs": [],
   "source": [
    "import os\n",
    "import json \n",
    "import argparse\n",
    "import numpy as np\n",
    "import math\n",
    "import pickle\n",
    "import datetime\n",
    "import time\n",
    "import logging\n",
    "import itertools"
   ]
  },
  {
   "cell_type": "markdown",
   "metadata": {},
   "source": [
    "You can specify an URL to an image"
   ]
  },
  {
   "cell_type": "code",
   "execution_count": null,
   "metadata": {},
   "outputs": [],
   "source": [
    "url = 'https://cdn.topofart.com/images/artists/John_Singer_Sargent/paintings/sargent029.jpg'\n",
    "import urllib.request\n",
    "urllib.request.urlretrieve(url, \"input_img.jpg\")\n",
    "imgpath = os.path.abspath(\"input_img.jpg\")"
   ]
  },
  {
   "cell_type": "markdown",
   "metadata": {},
   "source": [
    "Or specify an image from the styletransfer art dataset:"
   ]
  },
  {
   "cell_type": "code",
   "execution_count": null,
   "metadata": {},
   "outputs": [],
   "source": [
    "imgpath = '/home/althausc/nfs/data/coco_17_medium/val2017_styletransfer/000000000785_050351.jpg'"
   ]
  },
  {
   "cell_type": "markdown",
   "metadata": {},
   "source": [
    "Show the loaded image:"
   ]
  },
  {
   "cell_type": "code",
   "execution_count": null,
   "metadata": {},
   "outputs": [],
   "source": [
    "from IPython.display import Image, display\n",
    "display(Image(filename=imgpath))"
   ]
  },
  {
   "cell_type": "markdown",
   "metadata": {},
   "source": [
    "Run keypoint & scene graph inference:"
   ]
  },
  {
   "cell_type": "code",
   "execution_count": null,
   "metadata": {},
   "outputs": [],
   "source": [
    "import branchkpts.predict_search_modules as kptm\n",
    "import branchgraphs.predict_search_modules as graphm\n",
    "\n",
    "#Keypoint inference\n",
    "kpt_annpath = kptm.predict(imgpath)\n",
    "display(Image(filename=\"input_img_overlay.jpg\"))\n",
    "\n",
    "#Graph inference\n",
    "g_annpath = graphm.predict_scenegraph(imgpath)\n",
    "\n",
    "filterlabels = True #False\n",
    "imgpath, anns = graphm.visualize_scenegraph(annpath, filterlabels)\n",
    "display(Image(filename=imgpath))\n",
    "\n",
    "with open(anns, 'r') as f:\n",
    "    print(f.read())"
   ]
  },
  {
   "cell_type": "markdown",
   "metadata": {},
   "source": [
    "---\n",
    "Transforms the keypoint predictions to a geometric feature descriptor. <br>\n",
    "Please specify following parameters:\n",
    "\n",
    "    Method for constructing the feature vector\n",
    "    PCA params, if necessary because of too many feature entries [Model only used when pca enabled]\n",
    "\n",
    "Transforms the scene graph predictions into necessary Graph2Vec format. \n",
    "Furthermore only the best k predictions will be considered. <br>\n",
    "Please specify following parameters:\n",
    "    \n",
    "    Relasnodes for transforming the predicates to nodes.\n",
    "    "
   ]
  },
  {
   "cell_type": "code",
   "execution_count": null,
   "metadata": {},
   "outputs": [],
   "source": [
    "#Transform poses to GPD descriptor\n",
    "methodgpd = 0 #['JcJLdLLa_reduced', 'JLd_all']\n",
    "pca_on = False #True\n",
    "pca_model = '/home/althausc/master_thesis_impl/posedescriptors/out/08/27_13-49-24/modelpca64.pkl' \n",
    "\n",
    "gpdfile = kptm.transform_to_gpd(kpt_annpath, methodgpd, pca_on, pca_model)\n",
    "\n",
    "#Transform graph predictions to G2V Format\n",
    "relsasnodes = True\n",
    "graphfile = graphm.transform_into_g2vformat(g_annpath,relsasnodes)"
   ]
  },
  {
   "cell_type": "markdown",
   "metadata": {},
   "source": [
    "Search for images in the database with similar arrangements of persons. <br>\n",
    "A database (Elastic Search) is queried with the given keypoint feature vector. <br>\n",
    "Please specify following parameters: <br>\n",
    "    1. tresh Threshold for minimum cos similarity scores (range=[0,1], only used by method 'COSSIM')\n",
    "    2. method_search \n",
    "        - COSSIM uses cosinus similarity between query and each db image (cluster retrieval supported)\n",
    "        - DISTSUM accumulates all L2-Distances from query to all db images\n",
    "\n",
    "\n",
    "Search best matching image in reference to the computed scene graph. <br>\n",
    "A pretrained model is used in query mode to infer best matching results.<br>\n",
    "Please specify following parameters:<br>\n",
    "    \n",
    "    1. k Only obtain best k images according to pretrained G2V model(uses cosinus similarity)\n",
    "    2. rw Reweight mode enabled, then retrieved images get reordered by similarities \n",
    "          in box & relationship label distribution\n",
    "    3. rm Similarity metric between label distributions\n"
   ]
  },
  {
   "cell_type": "code",
   "execution_count": null,
   "metadata": {},
   "outputs": [],
   "source": [
    "#Search with pose descriptors\n",
    "method_search = 'COSSIM' #['COSSIM', 'DISTSUM']\n",
    "tresh = 0.95\n",
    "topkkpt_file = branchkpts.search(gpdfile, method_search, methodgpd, tresh)\n",
    "\n",
    "#Search with graph embeddings\n",
    "k = 10\n",
    "rw = False #True\n",
    "rm = 'jaccard' #'euclid' \n",
    "topngraph_file = search_topk(graphfile, k, reweight=rw, r_mode=rm)\n"
   ]
  },
  {
   "cell_type": "markdown",
   "metadata": {},
   "source": [
    "Merge resultlists & Show images in ranking."
   ]
  },
  {
   "cell_type": "code",
   "execution_count": null,
   "metadata": {},
   "outputs": [],
   "source": [
    "import ipyplot\n",
    "import branchtogether as bb\n",
    "#results = '/home/althausc/master_thesis_impl/retrieval/out/09/03_16-45-46/result-ranking.json'\n",
    "\n",
    "topk = 20\n",
    "w_branches = 0.5 #0-> kpts only, 1-> graphs only\n",
    "im_dir, mergedres = bb.merge_retrievalresults(topkkpt_file, topngraph_file, topk=topk, weight_branches = w_branches)\n",
    "\n",
    "imgs, scores = bb.getImgs(im_dir, mergedres)\n",
    "\n",
    "\n",
    "queryim = bb.drawborder(imgpath)\n",
    "imgs.insert(0,queryim)\n",
    "\n",
    "\n",
    "ipyplot.plot_images(imgs, labels=None, scores=scores, max_images=30, img_width=250)"
   ]
  }
 ],
 "metadata": {
  "kernelspec": {
   "display_name": "Python 3",
   "language": "python",
   "name": "python3"
  },
  "language_info": {
   "codemirror_mode": {
    "name": "ipython",
    "version": 3
   },
   "file_extension": ".py",
   "mimetype": "text/x-python",
   "name": "python",
   "nbconvert_exporter": "python",
   "pygments_lexer": "ipython3",
   "version": "3.6.11"
  }
 },
 "nbformat": 4,
 "nbformat_minor": 4
}
