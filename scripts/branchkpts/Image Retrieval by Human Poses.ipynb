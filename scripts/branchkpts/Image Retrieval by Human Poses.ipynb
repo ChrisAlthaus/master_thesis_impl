{
 "cells": [
  {
   "cell_type": "code",
   "execution_count": null,
   "metadata": {},
   "outputs": [],
   "source": [
    "import os\n",
    "import json \n",
    "import argparse\n",
    "import numpy as np\n",
    "import math\n",
    "import pickle\n",
    "import datetime\n",
    "import time\n",
    "import logging\n",
    "import itertools\n",
    "\n",
    "%load_ext autoreload\n",
    "%autoreload 2"
   ]
  },
  {
   "cell_type": "code",
   "execution_count": null,
   "metadata": {},
   "outputs": [],
   "source": [
    "%%javascript\n",
    "IPython.OutputArea.prototype._should_scroll = function(lines) {\n",
    "    return false;\n",
    "}"
   ]
  },
  {
   "cell_type": "markdown",
   "metadata": {},
   "source": [
    "You can specify an URL to an image:"
   ]
  },
  {
   "cell_type": "code",
   "execution_count": null,
   "metadata": {},
   "outputs": [],
   "source": [
    "#Manniques\n",
    "#url = 'https://www.deco4shops.dk/media/com_mijoshop/opencart/image/cache//r/o/roy_r5101_white-800x800.jpg'\n",
    "#url = 'https://static.turbosquid.com/Preview/2015/02/18__13_25_29/1.jpgcfab0d85-8957-4942-adde-67723890d821Large.jpg'\n",
    "#url = 'https://st2.depositphotos.com/4157265/7124/i/950/depositphotos_71247555-stock-photo-utthita-tadasana-yoga-pose.jpg'\n",
    "\n",
    "#Sitting Poses\n",
    "#url = 'https://cdn.topofart.com/images/artists/John_Singer_Sargent/paintings/sargent029.jpg'\n",
    "#Das Letzte Abendmahl\n",
    "#url = 'https://i.pinimg.com/originals/8f/03/bd/8f03bdb00d78904c537b32896594e0ac.jpg'\n",
    "#Crucifixation\n",
    "#url = 'https://ae01.alicdn.com/kf/HTB1MrMFjL6H8KJjy0Fjq6yXepXat.jpg'\n",
    "#DaVincis Man\n",
    "#url = 'https://st.depositphotos.com/1006593/2674/i/950/depositphotos_26742907-stock-photo-da-vincis-vitruvian-man-isolated.jpg'\n",
    "#Virgin of the Rocks\n",
    "#url = 'https://i.pinimg.com/originals/45/7c/3f/457c3f16ee83bc55d1ecad8b4bf2e31e.jpg'\n",
    "#url = 'https://upload.wikimedia.org/wikipedia/commons/thumb/e/e4/Leonardo_Da_Vinci_-_Vergine_delle_Rocce_%28Louvre%29.jpg/560px-Leonardo_Da_Vinci_-_Vergine_delle_Rocce_%28Louvre%29.jpg'\n",
    "#Neutral Pose\n",
    "#url = 'https://www.deco4shops.dk/media/com_mijoshop/opencart/image/cache/catalog/Hindsgaul%20in%20stock/Roy%202015%20mail/Roy%20R5101%20Grey-800x800.jpg'\n",
    "#David\n",
    "#url = 'https://d7hftxdivxxvm.cloudfront.net/?resize_to=width&src=https%3A%2F%2Fd32dm0rphc51dk.cloudfront.net%2FbOWuf3Mlwnt6yxaQI5238A%2Flarge.jpg&width=1200&quality=80'\n",
    "#Dürer Self-Portrait\n",
    "#url = 'https://www.meisterdrucke.com/kunstwerke/500px/Albrecht%20Drer%20or%20Duerer%20-%20Study%20for%20Self%20Portrait%20with%20a%20Glove%20c1498%20-%20%28MeisterDrucke-305470%29.jpg'\n",
    "#Leda and the Swan\n",
    "#url = 'https://upload.wikimedia.org/wikipedia/commons/thumb/9/95/Leda_and_the_Swan_1510-1515.jpg/354px-Leda_and_the_Swan_1510-1515.jpg'\n",
    "#Serpentine\n",
    "#url = 'https://artsy-media-uploads.s3.amazonaws.com/CvWetZY2wzpGjdbU-YD1CQ%2FLibyanSibyl_SistineChapel.jpg'\n",
    "#Cross-Legged Pose\n",
    "#url = 'https://caufsociety.com/wp-content/uploads/2020/06/homeless-man-in-sf-california-983x737.jpg'\n",
    "#url = 'https://i.pinimg.com/originals/d8/6e/16/d86e16a022c7c7d1ca6ebe1b67031d02.jpg'\n",
    "#Adoration Pose\n",
    "#url = 'https://i.pinimg.com/originals/83/15/28/831528e7216ce509b111b2952a70052c.jpg'\n",
    "#Commander Pose\n",
    "##url = 'https://d7hftxdivxxvm.cloudfront.net/?resize_to=width&src=https%3A%2F%2Fd32dm0rphc51dk.cloudfront.net%2FeuIB2YeHV82sM55WumEkyA%2Flarger.jpg&width=1200&quality=80'\n",
    "#Renaissance Elbow\n",
    "url = 'https://az333959.vo.msecnd.net/images-0/portrait-of-mattheus-van-den-broucke-1620-1685-councillor-of-the-indies-samuel-van-hoogstraten-1670-de22d661.jpg'\n",
    "#Pudica\n",
    "#url = 'https://d7hftxdivxxvm.cloudfront.net/?resize_to=width&src=https%3A%2F%2Fd32dm0rphc51dk.cloudfront.net%2FHbBnd8BAs1y2-_2tU8XDjA%2Flarger.jpg&width=1200&quality=80'\n",
    "\n",
    "import urllib.request\n",
    "urllib.request.urlretrieve(url, \".images/input_img.jpg\")\n",
    "imgpath = os.path.abspath(\".images/input_img.jpg\")"
   ]
  },
  {
   "cell_type": "markdown",
   "metadata": {},
   "source": [
    "Or specify an image from the styletransfer art dataset:"
   ]
  },
  {
   "cell_type": "code",
   "execution_count": null,
   "metadata": {},
   "outputs": [],
   "source": [
    "imgpath = '/home/althausc/nfs/data/coco_17_medium/val2017_styletransfer/000000000785_050351.jpg'\n",
    "imgpath = '/home/althausc/nfs/data/coco_17_medium/val2017_styletransfer/000000329455_015095.jpg'\n",
    "imgpath = '/home/althausc/nfs/data/artimages/painterbynumbers1k/170.jpg'\n",
    "#imgpath = '/home/althausc/nfs/data/artimages/painterbynumbers10k/63962.jpg'\n",
    "#imgpath = '/home/althausc/nfs/data/artimages/painterbynumbers1k/28598.jpg'\n",
    "#imgpath = '/home/althausc/nfs/data/artimages/painterbynumbers1k/58738.jpg'\n",
    "#imgpath = '/home/althausc/nfs/data/artimages/painterbynumbers1k/82917.jpg'\n",
    "#imgpath = '/home/althausc/nfs/data/artimages/painterbynumbers1k/95612.jpg'\n",
    "#imgpath = '/home/althausc/nfs/data/artimages/painterbynumbers1k/53443.jpg'\n",
    "#imgpath = '/home/althausc/nfs/data/artimages/painterbynumbers1k/99878.jpg' #!\n",
    "#imgpath = '/home/althausc/master_thesis_impl/scripts/branchkpts/.images/test_img.jpg'\n",
    "#Renaissance Elbow\n",
    "#imgpath = '/nfs/data/iart/kaggle/img/66792.jpg'"
   ]
  },
  {
   "cell_type": "markdown",
   "metadata": {},
   "source": [
    "Show the loaded image:"
   ]
  },
  {
   "cell_type": "code",
   "execution_count": null,
   "metadata": {
    "scrolled": false
   },
   "outputs": [],
   "source": [
    "from IPython.display import Image, display\n",
    "display(Image(filename=imgpath, width=640, unconfined=True))"
   ]
  },
  {
   "cell_type": "markdown",
   "metadata": {},
   "source": [
    "Optional: Select sub-region of the image to catch a specific person"
   ]
  },
  {
   "cell_type": "code",
   "execution_count": null,
   "metadata": {},
   "outputs": [],
   "source": [
    "%matplotlib notebook\n",
    "#%matplotlib inline\n",
    "import matplotlib.pyplot as plt\n",
    "from PIL import Image\n",
    "import matplotlib.widgets as widgets\n",
    "from predict_search_modules import cropImage\n",
    "\n",
    "from ipywidgets import Output\n",
    "output = Output()\n",
    "display(output)\n",
    "\n",
    "@output.capture()\n",
    "def onselect(eclick, erelease, resize=True):\n",
    "    global imgpath\n",
    "    if eclick.ydata>erelease.ydata:\n",
    "        eclick.ydata,erelease.ydata=erelease.ydata,eclick.ydata\n",
    "    if eclick.xdata>erelease.xdata:\n",
    "        eclick.xdata,erelease.xdata=erelease.xdata,eclick.xdata\n",
    "    p1 = [eclick.xdata, eclick.ydata]\n",
    "    p2 = [erelease.xdata, erelease.ydata]\n",
    "   \n",
    "    ax.set_ylim(erelease.ydata,eclick.ydata)\n",
    "    ax.set_xlim(eclick.xdata,erelease.xdata)\n",
    "    #fig.canvas.draw(eclick.xdata,erelease.xdata) \n",
    "    \n",
    "    imgpath = cropImage(imgpath, p1, p2, resize=resize)\n",
    "\n",
    "fig = plt.figure(dpi=150)\n",
    "ax = fig.add_subplot(111)\n",
    "im = Image.open(imgpath)\n",
    "arr = np.asarray(im)\n",
    "plt_image=plt.imshow(arr)\n",
    "rs=widgets.RectangleSelector(\n",
    "    ax, onselect, drawtype='box',\n",
    "    rectprops = dict(facecolor='red', edgecolor = 'black', alpha=0.5, fill=True))\n",
    "plt.show()"
   ]
  },
  {
   "cell_type": "markdown",
   "metadata": {},
   "source": [
    "---\n",
    "Run keypoint inference:"
   ]
  },
  {
   "cell_type": "code",
   "execution_count": null,
   "metadata": {},
   "outputs": [],
   "source": [
    "from predict_search_modules import predict\n",
    "annpath, imgname = predict(imgpath, queue=None)"
   ]
  },
  {
   "cell_type": "markdown",
   "metadata": {},
   "source": [
    "Visualize the predictions onto the image:"
   ]
  },
  {
   "cell_type": "code",
   "execution_count": null,
   "metadata": {},
   "outputs": [],
   "source": [
    "from IPython.display import Image, display\n",
    "display(Image(filename=imgname))"
   ]
  },
  {
   "cell_type": "markdown",
   "metadata": {},
   "source": [
    "---\n",
    "Transform the predictions to a feature descriptor.\n",
    "Please specify following parameters:\n",
    " - Method for constructing the feature vector \n",
    " - PCA params, if necessary because of too many feature entries [Model only used when pca enabled]"
   ]
  },
  {
   "cell_type": "code",
   "execution_count": null,
   "metadata": {},
   "outputs": [],
   "source": [
    "from predict_search_modules import transform_to_gpd\n",
    "methodgpd = 'JJo_reduced' #['JcJLdLLa_reduced', 'JLd_all', 'JJo_reduced', 'JLd_all_direct', 'Jc_rel']\n",
    "pca_on = False #True #False\n",
    "pca_model = '/home/althausc/master_thesis_impl/posedescriptors/out/insert/10-13_13-10-14/modelpca64.pkl'\n",
    "flip = False #True\n",
    "\n",
    "gpdfile = transform_to_gpd(annpath, methodgpd, pca_on, pca_model, flip)\n",
    "print(\"GPD file: \" ,gpdfile)"
   ]
  },
  {
   "cell_type": "markdown",
   "metadata": {},
   "source": [
    "---\n",
    "Search for images in the database with similar arrangements of persons:"
   ]
  },
  {
   "cell_type": "code",
   "execution_count": null,
   "metadata": {
    "scrolled": false
   },
   "outputs": [],
   "source": [
    "from predict_search_modules import search\n",
    "method_search = 'L2' #['COSSIM', 'L1', 'L2']\n",
    "percperson = True #False\n",
    "rankingtype = 'max' #['average', 'max', 'querymultiple-firstn', 'querymultiple-average', 'querymultiple-samefreq'] note: querymultiple auto if flip=True\n",
    "tresh = 0.95 #not used ?\n",
    "\n",
    "#gpdfile = '/home/althausc/master_thesis_impl/posedescriptors/out/query/12-19_09-25-42/geometric_pose_descriptor_c_2_mJcJLdLLa_reduced_t0.05_f1_mkpt7n1.json'\n",
    "#methodgpd = 'JJo_reduced' #['JcJLdLLa_reduced', 'JLd_all', 'JJo_reduced']\n",
    "\n",
    "results = search(gpdfile, method_search, methodgpd, rankingtype, percperson, imgpath)\n",
    "print(\"Result file: \", results)\n"
   ]
  },
  {
   "cell_type": "markdown",
   "metadata": {},
   "source": [
    "Display the search result:"
   ]
  },
  {
   "cell_type": "code",
   "execution_count": null,
   "metadata": {},
   "outputs": [],
   "source": [
    "#from widgets import displaySliderExecNexts\n",
    "#from custom_widgets import sliderButtonExecNexts\n",
    "from custom_widgets import floatslider\n",
    "slider = floatslider()\n"
   ]
  },
  {
   "cell_type": "code",
   "execution_count": null,
   "metadata": {
    "tags": []
   },
   "outputs": [],
   "source": [
    "import ipyplot\n",
    "from predict_search_modules import getImgs, treshIndex, drawborder, getimg\n",
    "\n",
    "tresh = 0.1 #slider.value\n",
    "imgs, scores = getImgs(results, drawkpts=False)\n",
    "queryim = getimg(imgpath) #drawborder(imgpath)\n",
    "imgs.insert(0,queryim)\n",
    "scores.insert(0,'')\n",
    "\n",
    "k = len(imgs) #treshIndex(tresh, results)\n",
    "ipyplot.plot_images(imgs[:k], labels=None, scores=scores[:k], max_images=20, img_width=250, savedir=os.path.dirname(results))\n",
    "\n"
   ]
  },
  {
   "source": [
    "Generate test retrieval results:"
   ],
   "cell_type": "markdown",
   "metadata": {}
  },
  {
   "cell_type": "code",
   "execution_count": 1,
   "metadata": {
    "tags": []
   },
   "outputs": [
    {
     "output_type": "stream",
     "name": "stdout",
     "text": [
      "Reading from file:  /home/althausc/master_thesis_impl/retrieval/out/humanposes/12-23_19-26-12/result-ranking.json\n",
      "('0', {'filename': '63342.jpg', 'relscore': 1.0})\n",
      "('1', {'filename': '48891.jpg', 'relscore': 0.9934903024979977})\n",
      "('2', {'filename': '101606.jpg', 'relscore': 0.9456884796740029})\n",
      "('3', {'filename': '1486.jpg', 'relscore': 0.9422215721419024})\n",
      "('4', {'filename': '52559.jpg', 'relscore': 0.940595009070707})\n",
      "('5', {'filename': '29375.jpg', 'relscore': 0.9294864318207121})\n",
      "('6', {'filename': '97974.jpg', 'relscore': 0.911873430030283})\n",
      "('7', {'filename': '102241.jpg', 'relscore': 0.9020210630876048})\n",
      "('8', {'filename': '45508.jpg', 'relscore': 0.9007076265900184})\n",
      "('9', {'filename': '102408.jpg', 'relscore': 0.8784303829727725})\n",
      "('10', {'filename': '31018.jpg', 'relscore': 0.8701780848956193})\n",
      "('11', {'filename': '63454.jpg', 'relscore': 0.8689098244153939})\n",
      "('12', {'filename': '90690.jpg', 'relscore': 0.8675951101142375})\n",
      "('13', {'filename': '84424.jpg', 'relscore': 0.867260406452494})\n",
      "('14', {'filename': '96748.jpg', 'relscore': 0.8632711522305784})\n",
      "('15', {'filename': '98187.jpg', 'relscore': 0.8589789129899718})\n",
      "('16', {'filename': '47035.jpg', 'relscore': 0.8578635360457632})\n",
      "('17', {'filename': '7164.jpg', 'relscore': 0.857423195230642})\n",
      "('18', {'filename': '62527.jpg', 'relscore': 0.8464571820397302})\n",
      "('19', {'filename': '13947.jpg', 'relscore': 0.8437501147394821})\n",
      "('20', {'filename': '83793.jpg', 'relscore': 0.8376873411671968})\n",
      "('21', {'filename': '69622.jpg', 'relscore': 0.831138193501806})\n",
      "('22', {'filename': '19479.jpg', 'relscore': 0.8291768782446811})\n",
      "('23', {'filename': '59758.jpg', 'relscore': 0.8288463153134941})\n",
      "('24', {'filename': '101065.jpg', 'relscore': 0.8275504769207731})\n",
      "('25', {'filename': '35566.jpg', 'relscore': 0.8246121271743225})\n",
      "('26', {'filename': '79908.jpg', 'relscore': 0.819801067334765})\n",
      "('27', {'filename': '75431.jpg', 'relscore': 0.8109301667570862})\n",
      "('28', {'filename': '75509.jpg', 'relscore': 0.29263100871156333})\n",
      "('29', {'filename': '23618.jpg', 'relscore': 0.2637308121417024})\n",
      "('30', {'filename': '67448.jpg', 'relscore': 0.2544038165631132})\n",
      "('31', {'filename': '99926.jpg', 'relscore': 0.22099539959982764})\n",
      "('32', {'filename': '62323.jpg', 'relscore': 0.21999033430560175})\n",
      "('33', {'filename': '53006.jpg', 'relscore': 0.2182289386956592})\n",
      "('34', {'filename': '68251.jpg', 'relscore': 0.21813952479520413})\n",
      "('35', {'filename': '6552.jpg', 'relscore': 0.2069131955200078})\n",
      "('36', {'filename': '8204.jpg', 'relscore': 0.2044624006218601})\n",
      "('37', {'filename': '102294.jpg', 'relscore': 0.19756315095296892})\n",
      "('38', {'filename': '22552.jpg', 'relscore': 0.1964369207657783})\n",
      "('39', {'filename': '92331.jpg', 'relscore': 0.19378379618586639})\n",
      "('40', {'filename': '60744.jpg', 'relscore': 0.1937191457951068})\n",
      "('41', {'filename': '6773.jpg', 'relscore': 0.19358803344396908})\n",
      "('42', {'filename': '95365.jpg', 'relscore': 0.1917616801234209})\n",
      "('43', {'filename': '61260.jpg', 'relscore': 0.1916161722637078})\n",
      "('44', {'filename': '69667.jpg', 'relscore': 0.19145154587462818})\n",
      "('45', {'filename': '5694.jpg', 'relscore': 0.18672951174203628})\n",
      "('46', {'filename': '82481.jpg', 'relscore': 0.18548612799460754})\n",
      "('47', {'filename': '68783.jpg', 'relscore': 0.18304317783989707})\n",
      "('48', {'filename': '73218.jpg', 'relscore': 0.18266640370871007})\n",
      "('49', {'filename': '31991.jpg', 'relscore': 0.18128401434252023})\n",
      "('50', {'filename': '2751.jpg', 'relscore': 0.18122190338417216})\n",
      "('51', {'filename': '64656.jpg', 'relscore': 0.17759819803170052})\n",
      "('52', {'filename': '21131.jpg', 'relscore': 0.1774631552214799})\n",
      "('53', {'filename': '71964.jpg', 'relscore': 0.17703167815770618})\n",
      "('54', {'filename': '39945.jpg', 'relscore': 0.17685763807650193})\n",
      "('55', {'filename': '79325.jpg', 'relscore': 0.17593496685045962})\n",
      "('56', {'filename': '96283.jpg', 'relscore': 0.1740282898270063})\n",
      "('57', {'filename': '15803.jpg', 'relscore': 0.17352973616316256})\n",
      "('58', {'filename': '96064.jpg', 'relscore': 0.17268248769721825})\n",
      "('59', {'filename': '92481.jpg', 'relscore': 0.17260446080579359})\n",
      "('60', {'filename': '58821.jpg', 'relscore': 0.17064482772045714})\n",
      "('61', {'filename': '23803.jpg', 'relscore': 0.17023436162931213})\n",
      "('62', {'filename': '101994.jpg', 'relscore': 0.16847236755440645})\n",
      "('63', {'filename': '24654.jpg', 'relscore': 0.1676678365470552})\n",
      "('64', {'filename': '5605.jpg', 'relscore': 0.16721944071702316})\n",
      "('65', {'filename': '76702.jpg', 'relscore': 0.16703545317764598})\n",
      "('66', {'filename': '93796.jpg', 'relscore': 0.16665976275328434})\n",
      "('67', {'filename': '97042.jpg', 'relscore': 0.1655407626698389})\n",
      "('68', {'filename': '23389.jpg', 'relscore': 0.16539674288516953})\n",
      "('69', {'filename': '11716.jpg', 'relscore': 0.1641206538362356})\n",
      "('70', {'filename': '69731.jpg', 'relscore': 0.16380081475020095})\n",
      "('71', {'filename': '50760.jpg', 'relscore': 0.16300414466101562})\n",
      "('72', {'filename': '5731.jpg', 'relscore': 0.16220453077120023})\n",
      "('73', {'filename': '20258.jpg', 'relscore': 0.16110998687760436})\n",
      "('74', {'filename': '16739.jpg', 'relscore': 0.1609688785441075})\n",
      "('75', {'filename': '100626.jpg', 'relscore': 0.16003779645912225})\n",
      "('76', {'filename': '35534.jpg', 'relscore': 0.15942084378092758})\n",
      "('77', {'filename': '76595.jpg', 'relscore': 0.15904376232989467})\n",
      "('78', {'filename': '73891.jpg', 'relscore': 0.15861262493542444})\n",
      "('79', {'filename': '13283.jpg', 'relscore': 0.15824602470861263})\n",
      "('80', {'filename': '81365.jpg', 'relscore': 0.15807926325533977})\n",
      "('81', {'filename': '91919.jpg', 'relscore': 0.15783557479219645})\n",
      "('82', {'filename': '81048.jpg', 'relscore': 0.15662070709152998})\n",
      "('83', {'filename': '99339.jpg', 'relscore': 0.15371964009481695})\n",
      "('84', {'filename': '82550.jpg', 'relscore': 0.15245909496019877})\n",
      "('85', {'filename': '46819.jpg', 'relscore': 0.1518772737928197})\n",
      "('86', {'filename': '89047.jpg', 'relscore': 0.15149946447899368})\n",
      "('87', {'filename': '102891.jpg', 'relscore': 0.15132110574521673})\n",
      "('88', {'filename': '34528.jpg', 'relscore': 0.15095655970895458})\n",
      "('89', {'filename': '83082.jpg', 'relscore': 0.15093089041444976})\n",
      "('90', {'filename': '25866.jpg', 'relscore': 0.1496769122196986})\n",
      "('91', {'filename': '6804.jpg', 'relscore': 0.14883864072820313})\n",
      "('92', {'filename': '67578.jpg', 'relscore': 0.14610996399036316})\n",
      "('93', {'filename': '94417.jpg', 'relscore': 0.1460095189249098})\n",
      "('94', {'filename': '59942.jpg', 'relscore': 0.14582731060569357})\n",
      "('95', {'filename': '37350.jpg', 'relscore': 0.1454558579602609})\n",
      "('96', {'filename': '35540.jpg', 'relscore': 0.14525804102781412})\n",
      "('97', {'filename': '16457.jpg', 'relscore': 0.14516212488640692})\n",
      "('98', {'filename': '41442.jpg', 'relscore': 0.1447720551281986})\n",
      "('99', {'filename': '64076.jpg', 'relscore': 0.14406103022767275})\n",
      "Write metadata to:  /home/althausc/master_thesis_impl/flask/retrieval/Jc_rel/metadata/1.json\n",
      "Reading from file:  /home/althausc/master_thesis_impl/retrieval/out/humanposes/12-15_15-19-17-goodresults_p1_L2/result-ranking.json\n",
      "('0', {'filename': '53967.jpg', 'relscore': 1.0})\n",
      "('1', {'filename': '61932.jpg', 'relscore': 0.9574674473932174})\n",
      "('2', {'filename': '90411.jpg', 'relscore': 0.7811387787139995})\n",
      "('3', {'filename': '90414.jpg', 'relscore': 0.6858973506160573})\n",
      "('4', {'filename': '42369.jpg', 'relscore': 0.6654350344773332})\n",
      "('5', {'filename': '88859.jpg', 'relscore': 0.6579944551678982})\n",
      "('6', {'filename': '7326.jpg', 'relscore': 0.6311537889782434})\n",
      "('7', {'filename': '10472.jpg', 'relscore': 0.6177455450750424})\n",
      "('8', {'filename': '30093.jpg', 'relscore': 0.5978764669713451})\n",
      "('9', {'filename': '64587.jpg', 'relscore': 0.592200331209145})\n",
      "('10', {'filename': '73473.jpg', 'relscore': 0.5869840474729249})\n",
      "('11', {'filename': '73350.jpg', 'relscore': 0.5741975582146638})\n",
      "('12', {'filename': '5470.jpg', 'relscore': 0.5677034642764385})\n",
      "('13', {'filename': '22650.jpg', 'relscore': 0.5531403265932716})\n",
      "('14', {'filename': '22102.jpg', 'relscore': 0.543776466797816})\n",
      "('15', {'filename': '78844.jpg', 'relscore': 0.5436162416264997})\n",
      "('16', {'filename': '73214.jpg', 'relscore': 0.5338777904196917})\n",
      "('17', {'filename': '13316.jpg', 'relscore': 0.5245949686982487})\n",
      "('18', {'filename': '96742.jpg', 'relscore': 0.5245025933918978})\n",
      "('19', {'filename': '76887.jpg', 'relscore': 0.5173589801581084})\n",
      "('20', {'filename': '18445.jpg', 'relscore': 0.5168241635754391})\n",
      "('21', {'filename': '30740.jpg', 'relscore': 0.5090868495624462})\n",
      "('22', {'filename': '53844.jpg', 'relscore': 0.5071537357626632})\n",
      "('23', {'filename': '5012.jpg', 'relscore': 0.5071178730889392})\n",
      "('24', {'filename': '62722.jpg', 'relscore': 0.5014874333142261})\n",
      "('25', {'filename': '91631.jpg', 'relscore': 0.4995355783752706})\n",
      "('26', {'filename': '102948.jpg', 'relscore': 0.49934955521608104})\n",
      "('27', {'filename': '23860.jpg', 'relscore': 0.48996510330474563})\n",
      "('28', {'filename': '52077.jpg', 'relscore': 0.4852844459535045})\n",
      "('29', {'filename': '3675.jpg', 'relscore': 0.4843528840820051})\n",
      "('30', {'filename': '51837.jpg', 'relscore': 0.480635023834217})\n",
      "('31', {'filename': '7471.jpg', 'relscore': 0.4801504728377846})\n",
      "('32', {'filename': '31877.jpg', 'relscore': 0.45906807950176337})\n",
      "('33', {'filename': '39418.jpg', 'relscore': 0.4587709398970511})\n",
      "('34', {'filename': '45722.jpg', 'relscore': 0.4552838733075853})\n",
      "('35', {'filename': '86315.jpg', 'relscore': 0.4545316248047074})\n",
      "('36', {'filename': '22230.jpg', 'relscore': 0.45389940057276157})\n",
      "('37', {'filename': '82245.jpg', 'relscore': 0.4530086180318681})\n",
      "('38', {'filename': '3363.jpg', 'relscore': 0.45030677046789774})\n",
      "('39', {'filename': '21883.jpg', 'relscore': 0.4483501724011277})\n",
      "('40', {'filename': '80845.jpg', 'relscore': 0.4457568383466844})\n",
      "('41', {'filename': '3079.jpg', 'relscore': 0.443871734255274})\n",
      "('42', {'filename': '100003.jpg', 'relscore': 0.443658871933814})\n",
      "('43', {'filename': '3234.jpg', 'relscore': 0.43755758995891425})\n",
      "('44', {'filename': '26156.jpg', 'relscore': 0.42769477625451396})\n",
      "('45', {'filename': '19623.jpg', 'relscore': 0.424793948694396})\n",
      "('46', {'filename': '28853.jpg', 'relscore': 0.42400173066322233})\n",
      "('47', {'filename': '53448.jpg', 'relscore': 0.4141523365399576})\n",
      "('48', {'filename': '33691.jpg', 'relscore': 0.4106617415261418})\n",
      "('49', {'filename': '97418.jpg', 'relscore': 0.41020478165126817})\n",
      "('50', {'filename': '67373.jpg', 'relscore': 0.408667024907784})\n",
      "('51', {'filename': '31957.jpg', 'relscore': 0.4079176685560126})\n",
      "('52', {'filename': '8249.jpg', 'relscore': 0.40771614346689106})\n",
      "('53', {'filename': '22554.jpg', 'relscore': 0.40651289292041926})\n",
      "('54', {'filename': '71700.jpg', 'relscore': 0.4056421240651846})\n",
      "('55', {'filename': '40550.jpg', 'relscore': 0.4037581768342169})\n",
      "('56', {'filename': '95507.jpg', 'relscore': 0.40347954699658795})\n",
      "('57', {'filename': '38073.jpg', 'relscore': 0.40032230131934177})\n",
      "('58', {'filename': '44969.jpg', 'relscore': 0.40030899742425047})\n",
      "('59', {'filename': '65452.jpg', 'relscore': 0.39821623688337143})\n",
      "('60', {'filename': '21968.jpg', 'relscore': 0.3972633309367039})\n",
      "('61', {'filename': '75762.jpg', 'relscore': 0.39692518062929727})\n",
      "('62', {'filename': '97580.jpg', 'relscore': 0.3957116340248855})\n",
      "('63', {'filename': '35516.jpg', 'relscore': 0.39355119714810777})\n",
      "('64', {'filename': '22762.jpg', 'relscore': 0.3901054883194696})\n",
      "('65', {'filename': '1319.jpg', 'relscore': 0.38895227198714505})\n",
      "('66', {'filename': '29290.jpg', 'relscore': 0.38745494751613413})\n",
      "('67', {'filename': '96601.jpg', 'relscore': 0.3854086349220306})\n",
      "('68', {'filename': '31616.jpg', 'relscore': 0.38227614605825844})\n",
      "('69', {'filename': '93831.jpg', 'relscore': 0.3806938501877299})\n",
      "('70', {'filename': '93128.jpg', 'relscore': 0.3791866345599334})\n",
      "('71', {'filename': '20472.jpg', 'relscore': 0.37819057771875203})\n",
      "('72', {'filename': '88553.jpg', 'relscore': 0.37649213305977464})\n",
      "('73', {'filename': '26709.jpg', 'relscore': 0.3762752217267647})\n",
      "('74', {'filename': '25294.jpg', 'relscore': 0.37597559487210025})\n",
      "('75', {'filename': '26962.jpg', 'relscore': 0.3736497269520141})\n",
      "('76', {'filename': '83720.jpg', 'relscore': 0.3723858569183436})\n",
      "('77', {'filename': '31729.jpg', 'relscore': 0.36982265907843365})\n",
      "('78', {'filename': '62441.jpg', 'relscore': 0.3653113082529849})\n",
      "('79', {'filename': '10016.jpg', 'relscore': 0.3643742512943826})\n",
      "('80', {'filename': '94827.jpg', 'relscore': 0.35899959336355425})\n",
      "('81', {'filename': '5257.jpg', 'relscore': 0.35849485515239643})\n",
      "('82', {'filename': '102802.jpg', 'relscore': 0.358041134486762})\n",
      "('83', {'filename': '29620.jpg', 'relscore': 0.3577428958646287})\n",
      "('84', {'filename': '4852.jpg', 'relscore': 0.35768771362151114})\n",
      "('85', {'filename': '16547.jpg', 'relscore': 0.3559773532999736})\n",
      "('86', {'filename': '63814.jpg', 'relscore': 0.3554432886765919})\n",
      "('87', {'filename': '2542.jpg', 'relscore': 0.3553246526381916})\n",
      "('88', {'filename': '17313.jpg', 'relscore': 0.35428590764667384})\n",
      "('89', {'filename': '5195.jpg', 'relscore': 0.3524664553853882})\n",
      "('90', {'filename': '8876.jpg', 'relscore': 0.35208874045084015})\n",
      "('91', {'filename': '4558.jpg', 'relscore': 0.34857940429785256})\n",
      "('92', {'filename': '26848.jpg', 'relscore': 0.3457983117935559})\n",
      "('93', {'filename': '29871.jpg', 'relscore': 0.3454462791608369})\n",
      "('94', {'filename': '12738.jpg', 'relscore': 0.34015051911220223})\n",
      "('95', {'filename': '58458.jpg', 'relscore': 0.3394587165674563})\n",
      "('96', {'filename': '52497.jpg', 'relscore': 0.3379851077355208})\n",
      "('97', {'filename': '96143.jpg', 'relscore': 0.33487697078406825})\n",
      "('98', {'filename': '43027.jpg', 'relscore': 0.3325800243750496})\n",
      "('99', {'filename': '55486.jpg', 'relscore': 0.3324036031575347})\n",
      "Write metadata to:  /home/althausc/master_thesis_impl/flask/retrieval/Jc_rel/metadata/2.json\n",
      "Reading from file:  /home/althausc/master_thesis_impl/retrieval/out/humanposes/cropsearch/12-03_16-49-13-cossim-fullimg/result-ranking.json\n",
      "ERROR\n"
     ]
    },
    {
     "output_type": "error",
     "ename": "ValueError",
     "evalue": "not enough values to unpack (expected 3, got 2)",
     "traceback": [
      "\u001b[0;31m---------------------------------------------------------------------------\u001b[0m",
      "\u001b[0;31mValueError\u001b[0m                                Traceback (most recent call last)",
      "\u001b[0;32m<ipython-input-1-c475a4862372>\u001b[0m in \u001b[0;36m<module>\u001b[0;34m()\u001b[0m\n\u001b[1;32m     17\u001b[0m \u001b[0;32mfor\u001b[0m \u001b[0mn\u001b[0m \u001b[0;32min\u001b[0m \u001b[0mrange\u001b[0m\u001b[0;34m(\u001b[0m\u001b[0;36m10\u001b[0m\u001b[0;34m)\u001b[0m\u001b[0;34m:\u001b[0m \u001b[0;31m#range(5,10):\u001b[0m\u001b[0;34m\u001b[0m\u001b[0;34m\u001b[0m\u001b[0m\n\u001b[1;32m     18\u001b[0m     \u001b[0mresults\u001b[0m \u001b[0;34m=\u001b[0m \u001b[0mrandom\u001b[0m\u001b[0;34m.\u001b[0m\u001b[0mchoice\u001b[0m\u001b[0;34m(\u001b[0m\u001b[0mresultfiles\u001b[0m\u001b[0;34m)\u001b[0m\u001b[0;34m\u001b[0m\u001b[0;34m\u001b[0m\u001b[0m\n\u001b[0;32m---> 19\u001b[0;31m     \u001b[0mimgs\u001b[0m\u001b[0;34m,\u001b[0m \u001b[0mscores\u001b[0m\u001b[0;34m,\u001b[0m \u001b[0mresultlist\u001b[0m \u001b[0;34m=\u001b[0m \u001b[0mgetImgs\u001b[0m\u001b[0;34m(\u001b[0m\u001b[0mresults\u001b[0m\u001b[0;34m,\u001b[0m \u001b[0mdrawkpts\u001b[0m\u001b[0;34m=\u001b[0m\u001b[0;32mFalse\u001b[0m\u001b[0;34m)\u001b[0m\u001b[0;34m\u001b[0m\u001b[0;34m\u001b[0m\u001b[0m\n\u001b[0m\u001b[1;32m     20\u001b[0m     \u001b[0;32mif\u001b[0m \u001b[0mimgs\u001b[0m \u001b[0;34m==\u001b[0m \u001b[0;32mNone\u001b[0m\u001b[0;34m:\u001b[0m\u001b[0;34m\u001b[0m\u001b[0;34m\u001b[0m\u001b[0m\n\u001b[1;32m     21\u001b[0m         \u001b[0;32mcontinue\u001b[0m\u001b[0;34m\u001b[0m\u001b[0;34m\u001b[0m\u001b[0m\n",
      "\u001b[0;31mValueError\u001b[0m: not enough values to unpack (expected 3, got 2)"
     ]
    }
   ],
   "source": [
    "import ipyplot\n",
    "from predict_search_modules import getImgs, treshIndex, drawborder, getimg\n",
    "\n",
    "results = '/home/althausc/master_thesis_impl/retrieval/out/humanposes/12-24_14-49-20/result-ranking.json'\n",
    "imgpath = '/home/althausc/nfs/data/artimages/painterbynumbers1k/170.jpg'\n",
    "methodgpd = 'Jc_rel'\n",
    "\n",
    "resultfiles = []\n",
    "import os\n",
    "import random\n",
    "for root, dirs, files in os.walk(\"/home/althausc/master_thesis_impl/retrieval/out/humanposes/\", topdown=False):\n",
    "    for name in files:\n",
    "        if name == \"result-ranking.json\":\n",
    "            resultfiles.append(os.path.join(root, name))\n",
    "#print(resultfiles)\n",
    "\n",
    "for n in range(10): #range(5,10):\n",
    "    results = random.choice(resultfiles)\n",
    "    imgs, scores, resultlist = getImgs(results, drawkpts=False)\n",
    "    if imgs == None:\n",
    "        continue\n",
    "    tresh = 0.1 #slider.value\n",
    "    queryim = getimg(imgpath)\n",
    "    imgs.insert(0,queryim)\n",
    "    scores.insert(0,'')\n",
    "\n",
    "    k = treshIndex(tresh, results)\n",
    "    k = 20 #len(imgs) #debug\n",
    "    #display(Image(filename=drawborder(imgpath)))\n",
    "    metadata = {'id': n, 'querypath': imgpath, 'resultpath': results, 'retrievaltopk': dict(resultlist[:k])}\n",
    "    savefile = '/home/althausc/master_thesis_impl/flask/retrieval/{}/{}.html'.format(methodgpd, n+1)\n",
    "    ipyplot.plot_images(imgs[:k+1], labels=None, scores=scores[:k+1], max_images=k, img_width=250, savefile=savefile, metadata=metadata)"
   ]
  },
  {
   "source": [
    "Generate random retrieval results:"
   ],
   "cell_type": "markdown",
   "metadata": {}
  },
  {
   "cell_type": "code",
   "execution_count": null,
   "metadata": {},
   "outputs": [],
   "source": [
    "import ipyplot\n",
    "from predict_search_modules import getImgs, treshIndex, getimg, getRandomImages\n",
    "\n",
    "queryimg_paths = []\n",
    "for n, qimgpath in enumerate(queryimg_paths):\n",
    "    tresh = 0.1 #slider.value\n",
    "    imgs, scores = getRandomImages(k=50)\n",
    "    queryim = getimg(qimgpath) #drawborder(imgpath)\n",
    "    imgs.insert(0,queryim)\n",
    "    scores.insert(0,'')\n",
    "\n",
    "    k = len(imgs) \n",
    "    savefile = '/home/althausc/master_thesis_impl/flask/results/random/{}.html'.format(n+1)\n",
    "    ipyplot.plot_images(imgs[:k], labels=None, scores=scores[:k], max_images=20, img_width=250, savefile=savefile)"
   ]
  }
 ],
 "metadata": {
  "kernelspec": {
   "display_name": "Python 3",
   "language": "python",
   "name": "python3"
  },
  "language_info": {
   "codemirror_mode": {
    "name": "ipython",
    "version": 3
   },
   "file_extension": ".py",
   "mimetype": "text/x-python",
   "name": "python",
   "nbconvert_exporter": "python",
   "pygments_lexer": "ipython3",
   "version": "3.6.11-final"
  }
 },
 "nbformat": 4,
 "nbformat_minor": 4
}