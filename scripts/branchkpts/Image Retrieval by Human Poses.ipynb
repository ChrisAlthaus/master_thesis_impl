{
 "cells": [
  {
   "cell_type": "code",
   "execution_count": null,
   "metadata": {},
   "outputs": [],
   "source": [
    "import os\n",
    "import json \n",
    "import argparse\n",
    "import numpy as np\n",
    "import math\n",
    "import pickle\n",
    "import datetime\n",
    "import time\n",
    "import logging\n",
    "import itertools\n",
    "\n",
    "%load_ext autoreload\n",
    "%autoreload 2"
   ]
  },
  {
   "cell_type": "code",
   "execution_count": null,
   "metadata": {},
   "outputs": [],
   "source": [
    "%%javascript\n",
    "IPython.OutputArea.prototype._should_scroll = function(lines) {\n",
    "    return false;\n",
    "}"
   ]
  },
  {
   "cell_type": "markdown",
   "metadata": {},
   "source": [
    "You can specify an URL to an image:"
   ]
  },
  {
   "cell_type": "code",
   "execution_count": null,
   "metadata": {},
   "outputs": [],
   "source": [
    "#Manniques\n",
    "#url = 'https://www.deco4shops.dk/media/com_mijoshop/opencart/image/cache//r/o/roy_r5101_white-800x800.jpg'\n",
    "#url = 'https://static.turbosquid.com/Preview/2015/02/18__13_25_29/1.jpgcfab0d85-8957-4942-adde-67723890d821Large.jpg'\n",
    "#url = 'https://st2.depositphotos.com/4157265/7124/i/950/depositphotos_71247555-stock-photo-utthita-tadasana-yoga-pose.jpg'\n",
    "\n",
    "#Sitting Poses\n",
    "#url = 'https://cdn.topofart.com/images/artists/John_Singer_Sargent/paintings/sargent029.jpg'\n",
    "#Das Letzte Abendmahl\n",
    "#url = 'https://i.pinimg.com/originals/8f/03/bd/8f03bdb00d78904c537b32896594e0ac.jpg'\n",
    "#Crucifixation\n",
    "#url = 'https://ae01.alicdn.com/kf/HTB1MrMFjL6H8KJjy0Fjq6yXepXat.jpg'\n",
    "#DaVincis Man\n",
    "#url = 'https://st.depositphotos.com/1006593/2674/i/950/depositphotos_26742907-stock-photo-da-vincis-vitruvian-man-isolated.jpg'\n",
    "#Virgin of the Rocks\n",
    "#url = 'https://i.pinimg.com/originals/45/7c/3f/457c3f16ee83bc55d1ecad8b4bf2e31e.jpg'\n",
    "#url = 'https://upload.wikimedia.org/wikipedia/commons/thumb/e/e4/Leonardo_Da_Vinci_-_Vergine_delle_Rocce_%28Louvre%29.jpg/560px-Leonardo_Da_Vinci_-_Vergine_delle_Rocce_%28Louvre%29.jpg'\n",
    "#Neutral Pose\n",
    "#url = 'https://www.deco4shops.dk/media/com_mijoshop/opencart/image/cache/catalog/Hindsgaul%20in%20stock/Roy%202015%20mail/Roy%20R5101%20Grey-800x800.jpg'\n",
    "#David\n",
    "#url = 'https://d7hftxdivxxvm.cloudfront.net/?resize_to=width&src=https%3A%2F%2Fd32dm0rphc51dk.cloudfront.net%2FbOWuf3Mlwnt6yxaQI5238A%2Flarge.jpg&width=1200&quality=80'\n",
    "#Dürer Self-Portrait\n",
    "#url = 'https://www.meisterdrucke.com/kunstwerke/500px/Albrecht%20Drer%20or%20Duerer%20-%20Study%20for%20Self%20Portrait%20with%20a%20Glove%20c1498%20-%20%28MeisterDrucke-305470%29.jpg'\n",
    "#Leda and the Swan\n",
    "#url = 'https://upload.wikimedia.org/wikipedia/commons/thumb/9/95/Leda_and_the_Swan_1510-1515.jpg/354px-Leda_and_the_Swan_1510-1515.jpg'\n",
    "#Serpentine\n",
    "#url = 'https://artsy-media-uploads.s3.amazonaws.com/CvWetZY2wzpGjdbU-YD1CQ%2FLibyanSibyl_SistineChapel.jpg'\n",
    "#Cross-Legged Pose\n",
    "#url = 'https://caufsociety.com/wp-content/uploads/2020/06/homeless-man-in-sf-california-983x737.jpg'\n",
    "#url = 'https://i.pinimg.com/originals/d8/6e/16/d86e16a022c7c7d1ca6ebe1b67031d02.jpg'\n",
    "#Adoration Pose\n",
    "#url = 'https://i.pinimg.com/originals/83/15/28/831528e7216ce509b111b2952a70052c.jpg'\n",
    "#Commander Pose\n",
    "##url = 'https://d7hftxdivxxvm.cloudfront.net/?resize_to=width&src=https%3A%2F%2Fd32dm0rphc51dk.cloudfront.net%2FeuIB2YeHV82sM55WumEkyA%2Flarger.jpg&width=1200&quality=80'\n",
    "#Renaissance Elbow\n",
    "url = 'https://az333959.vo.msecnd.net/images-0/portrait-of-mattheus-van-den-broucke-1620-1685-councillor-of-the-indies-samuel-van-hoogstraten-1670-de22d661.jpg'\n",
    "#Pudica\n",
    "#url = 'https://d7hftxdivxxvm.cloudfront.net/?resize_to=width&src=https%3A%2F%2Fd32dm0rphc51dk.cloudfront.net%2FHbBnd8BAs1y2-_2tU8XDjA%2Flarger.jpg&width=1200&quality=80'\n",
    "\n",
    "import urllib.request\n",
    "urllib.request.urlretrieve(url, \".images/input_img.jpg\")\n",
    "imgpath = os.path.abspath(\".images/input_img.jpg\")"
   ]
  },
  {
   "cell_type": "markdown",
   "metadata": {},
   "source": [
    "Or specify an image from the styletransfer art dataset:"
   ]
  },
  {
   "cell_type": "code",
   "execution_count": null,
   "metadata": {},
   "outputs": [],
   "source": [
    "imgpath = '/home/althausc/nfs/data/coco_17_medium/val2017_styletransfer/000000000785_050351.jpg'\n",
    "imgpath = '/home/althausc/nfs/data/coco_17_medium/val2017_styletransfer/000000329455_015095.jpg'\n",
    "imgpath = '/home/althausc/nfs/data/artimages/painterbynumbers1k/170.jpg'\n",
    "#imgpath = '/home/althausc/nfs/data/artimages/painterbynumbers10k/63962.jpg'\n",
    "#imgpath = '/home/althausc/nfs/data/artimages/painterbynumbers1k/28598.jpg'\n",
    "#imgpath = '/home/althausc/nfs/data/artimages/painterbynumbers1k/58738.jpg'\n",
    "#imgpath = '/home/althausc/nfs/data/artimages/painterbynumbers1k/82917.jpg'\n",
    "#imgpath = '/home/althausc/nfs/data/artimages/painterbynumbers1k/95612.jpg'\n",
    "#imgpath = '/home/althausc/nfs/data/artimages/painterbynumbers1k/53443.jpg'\n",
    "#imgpath = '/home/althausc/nfs/data/artimages/painterbynumbers1k/99878.jpg' #!\n",
    "#imgpath = '/home/althausc/master_thesis_impl/scripts/branchkpts/.images/test_img.jpg'\n",
    "#Renaissance Elbow\n",
    "#imgpath = '/nfs/data/iart/kaggle/img/66792.jpg'"
   ]
  },
  {
   "cell_type": "markdown",
   "metadata": {},
   "source": [
    "Show the loaded image:"
   ]
  },
  {
   "cell_type": "code",
   "execution_count": null,
   "metadata": {
    "scrolled": false
   },
   "outputs": [],
   "source": [
    "from IPython.display import Image, display\n",
    "display(Image(filename=imgpath, width=640, unconfined=True))"
   ]
  },
  {
   "cell_type": "markdown",
   "metadata": {},
   "source": [
    "Optional: Select sub-region of the image to catch a specific person"
   ]
  },
  {
   "cell_type": "code",
   "execution_count": null,
   "metadata": {},
   "outputs": [],
   "source": [
    "%matplotlib notebook\n",
    "#%matplotlib inline\n",
    "import matplotlib.pyplot as plt\n",
    "from PIL import Image\n",
    "import matplotlib.widgets as widgets\n",
    "from predict_search_modules import cropImage\n",
    "\n",
    "from ipywidgets import Output\n",
    "output = Output()\n",
    "display(output)\n",
    "\n",
    "@output.capture()\n",
    "def onselect(eclick, erelease, resize=True):\n",
    "    global imgpath\n",
    "    if eclick.ydata>erelease.ydata:\n",
    "        eclick.ydata,erelease.ydata=erelease.ydata,eclick.ydata\n",
    "    if eclick.xdata>erelease.xdata:\n",
    "        eclick.xdata,erelease.xdata=erelease.xdata,eclick.xdata\n",
    "    p1 = [eclick.xdata, eclick.ydata]\n",
    "    p2 = [erelease.xdata, erelease.ydata]\n",
    "   \n",
    "    ax.set_ylim(erelease.ydata,eclick.ydata)\n",
    "    ax.set_xlim(eclick.xdata,erelease.xdata)\n",
    "    #fig.canvas.draw(eclick.xdata,erelease.xdata) \n",
    "    \n",
    "    imgpath = cropImage(imgpath, p1, p2, resize=resize)\n",
    "\n",
    "fig = plt.figure(dpi=150)\n",
    "ax = fig.add_subplot(111)\n",
    "im = Image.open(imgpath)\n",
    "arr = np.asarray(im)\n",
    "plt_image=plt.imshow(arr)\n",
    "rs=widgets.RectangleSelector(\n",
    "    ax, onselect, drawtype='box',\n",
    "    rectprops = dict(facecolor='red', edgecolor = 'black', alpha=0.5, fill=True))\n",
    "plt.show()"
   ]
  },
  {
   "cell_type": "markdown",
   "metadata": {},
   "source": [
    "---\n",
    "Run keypoint inference:"
   ]
  },
  {
   "cell_type": "code",
   "execution_count": null,
   "metadata": {},
   "outputs": [],
   "source": [
    "from predict_search_modules import predict\n",
    "annpath, imgname = predict(imgpath, queue=None)"
   ]
  },
  {
   "cell_type": "markdown",
   "metadata": {},
   "source": [
    "Visualize the predictions onto the image:"
   ]
  },
  {
   "cell_type": "code",
   "execution_count": null,
   "metadata": {},
   "outputs": [],
   "source": [
    "from IPython.display import Image, display\n",
    "display(Image(filename=imgname))"
   ]
  },
  {
   "cell_type": "markdown",
   "metadata": {},
   "source": [
    "---\n",
    "Transform the predictions to a feature descriptor.\n",
    "Please specify following parameters:\n",
    " - Method for constructing the feature vector \n",
    " - PCA params, if necessary because of too many feature entries [Model only used when pca enabled]"
   ]
  },
  {
   "cell_type": "code",
   "execution_count": null,
   "metadata": {},
   "outputs": [],
   "source": [
    "from predict_search_modules import transform_to_gpd\n",
    "methodgpd = 'JJo_reduced' #['JcJLdLLa_reduced', 'JLd_all', 'JJo_reduced', 'JLd_all_direct', 'Jc_rel']\n",
    "pca_on = False #True #False\n",
    "pca_model = '/home/althausc/master_thesis_impl/posedescriptors/out/insert/10-13_13-10-14/modelpca64.pkl'\n",
    "flip = False #True\n",
    "\n",
    "gpdfile = transform_to_gpd(annpath, methodgpd, pca_on, pca_model, flip)\n",
    "print(\"GPD file: \" ,gpdfile)"
   ]
  },
  {
   "cell_type": "markdown",
   "metadata": {},
   "source": [
    "---\n",
    "Search for images in the database with similar arrangements of persons:"
   ]
  },
  {
   "cell_type": "code",
   "execution_count": null,
   "metadata": {
    "scrolled": false
   },
   "outputs": [],
   "source": [
    "from predict_search_modules import search\n",
    "method_search = 'L2' #['COSSIM', 'L1', 'L2']\n",
    "percperson = True #False\n",
    "rankingtype = 'max' #['average', 'max', 'querymultiple-firstn', 'querymultiple-average', 'querymultiple-samefreq'] note: querymultiple auto if flip=True\n",
    "tresh = 0.95 #not used ?\n",
    "\n",
    "#gpdfile = '/home/althausc/master_thesis_impl/posedescriptors/out/query/12-19_09-25-42/geometric_pose_descriptor_c_2_mJcJLdLLa_reduced_t0.05_f1_mkpt7n1.json'\n",
    "#methodgpd = 'JJo_reduced' #['JcJLdLLa_reduced', 'JLd_all', 'JJo_reduced']\n",
    "\n",
    "results = search(gpdfile, method_search, methodgpd, rankingtype, percperson, imgpath)\n",
    "print(\"Result file: \", results)\n"
   ]
  },
  {
   "cell_type": "markdown",
   "metadata": {},
   "source": [
    "Display the search result:"
   ]
  },
  {
   "cell_type": "code",
   "execution_count": null,
   "metadata": {},
   "outputs": [],
   "source": [
    "#from widgets import displaySliderExecNexts\n",
    "#from custom_widgets import sliderButtonExecNexts\n",
    "from custom_widgets import floatslider\n",
    "slider = floatslider()\n"
   ]
  },
  {
   "cell_type": "code",
   "execution_count": null,
   "metadata": {
    "tags": []
   },
   "outputs": [],
   "source": [
    "import ipyplot\n",
    "from predict_search_modules import getImgs, treshIndex, drawborder, getimg\n",
    "\n",
    "tresh = 0.1 #slider.value\n",
    "imgs, scores = getImgs(results, drawkpts=False)\n",
    "queryim = getimg(imgpath) #drawborder(imgpath)\n",
    "imgs.insert(0,queryim)\n",
    "scores.insert(0,'')\n",
    "\n",
    "k = len(imgs) #treshIndex(tresh, results)\n",
    "ipyplot.plot_images(imgs[:k], labels=None, scores=scores[:k], max_images=20, img_width=250, savedir=os.path.dirname(results))\n",
    "\n"
   ]
  },
  {
   "source": [
    "Generate test retrieval results:"
   ],
   "cell_type": "markdown",
   "metadata": {}
  },
  {
   "cell_type": "code",
   "execution_count": null,
   "metadata": {},
   "outputs": [],
   "source": [
    "import ipyplot\n",
    "from predict_search_modules import getImgs, treshIndex, drawborder, getimg\n",
    "\n",
    "results = '/home/althausc/master_thesis_impl/retrieval/out/humanposes/12-24_14-49-20/result-ranking.json'\n",
    "imgpath = '/home/althausc/nfs/data/artimages/painterbynumbers1k/170.jpg'\n",
    "methodgpd = 'Jc_rel'\n",
    "\n",
    "resultfiles = []\n",
    "import os\n",
    "import random\n",
    "for root, dirs, files in os.walk(\"/home/althausc/master_thesis_impl/retrieval/out/humanposes/\", topdown=False):\n",
    "    for name in files:\n",
    "        if name == \"result-ranking.json\":\n",
    "            resultfiles.append(os.path.join(root, name))\n",
    "#print(resultfiles)\n",
    "\n",
    "for n in range(10): #range(5,10):\n",
    "    results = random.choice(resultfiles)\n",
    "    imgs, scores = getImgs(results, drawkpts=False)\n",
    "    if imgs == None:\n",
    "        continue\n",
    "    tresh = 0.1 #slider.value\n",
    "    queryim = getimg(imgpath)\n",
    "    imgs.insert(0,queryim)\n",
    "    scores.insert(0,'')\n",
    "\n",
    "    k = treshIndex(tresh, results)\n",
    "    k = len(imgs) #debug\n",
    "    #display(Image(filename=drawborder(imgpath)))\n",
    "    savefile = '/home/althausc/master_thesis_impl/flask/retrieval/{}/{}.html'.format(methodgpd, n+1)\n",
    "    ipyplot.plot_images(imgs[:k], labels=None, scores=scores[:k], max_images=20, img_width=250, savefile=savefile, savedir=os.path.dirname(results))"
   ]
  },
  {
   "source": [
    "Generate random retrieval results:"
   ],
   "cell_type": "markdown",
   "metadata": {}
  },
  {
   "cell_type": "code",
   "execution_count": null,
   "metadata": {},
   "outputs": [],
   "source": [
    "import ipyplot\n",
    "from predict_search_modules import getImgs, treshIndex, getimg, getRandomImages\n",
    "\n",
    "queryimg_paths = []\n",
    "for n, qimgpath in enumerate(queryimg_paths):\n",
    "    tresh = 0.1 #slider.value\n",
    "    imgs, scores = getRandomImages(k=50)\n",
    "    queryim = getimg(qimgpath) #drawborder(imgpath)\n",
    "    imgs.insert(0,queryim)\n",
    "    scores.insert(0,'')\n",
    "\n",
    "    k = len(imgs) \n",
    "    savefile = '/home/althausc/master_thesis_impl/flask/results/random/{}.html'.format(n+1)\n",
    "    ipyplot.plot_images(imgs[:k], labels=None, scores=scores[:k], max_images=20, img_width=250, savefile=savefile)"
   ]
  }
 ],
 "metadata": {
  "kernelspec": {
   "display_name": "Python 3",
   "language": "python",
   "name": "python3"
  },
  "language_info": {
   "codemirror_mode": {
    "name": "ipython",
    "version": 3
   },
   "file_extension": ".py",
   "mimetype": "text/x-python",
   "name": "python",
   "nbconvert_exporter": "python",
   "pygments_lexer": "ipython3",
   "version": "3.6.11-final"
  }
 },
 "nbformat": 4,
 "nbformat_minor": 4
}